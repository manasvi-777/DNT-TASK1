{
 "cells": [
  {
   "cell_type": "code",
   "execution_count": 1,
   "id": "0b2b5f84",
   "metadata": {},
   "outputs": [],
   "source": [
    "import turtle\n",
    "hp = turtle.Turtle()\n",
    "for i in range(3):\n",
    "    hp.forward(100)\n",
    "    hp.left(120)\n",
    "hp.forward(46)\n",
    "for i in range(36):\n",
    "  hp.forward(5)\n",
    "  hp.left(10)\n",
    "hp.forward(4)\n",
    "hp.left(90)\n",
    "hp.forward(86.60254)\n"
   ]
  }
 ],
 "metadata": {
  "kernelspec": {
   "display_name": "Python 3 (ipykernel)",
   "language": "python",
   "name": "python3"
  },
  "language_info": {
   "codemirror_mode": {
    "name": "ipython",
    "version": 3
   },
   "file_extension": ".py",
   "mimetype": "text/x-python",
   "name": "python",
   "nbconvert_exporter": "python",
   "pygments_lexer": "ipython3",
   "version": "3.9.13"
  }
 },
 "nbformat": 4,
 "nbformat_minor": 5
}
